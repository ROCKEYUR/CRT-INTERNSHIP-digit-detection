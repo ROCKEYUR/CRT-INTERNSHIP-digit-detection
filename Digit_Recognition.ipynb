{
  "cells": [
    {
      "cell_type": "markdown",
      "metadata": {
        "id": "view-in-github",
        "colab_type": "text"
      },
      "source": [
        "<a href=\"https://colab.research.google.com/github/ROCKEYUR/CRT-INTERNSHIP-digit-detection/blob/main/Digit_Recognition.ipynb\" target=\"_parent\"><img src=\"https://colab.research.google.com/assets/colab-badge.svg\" alt=\"Open In Colab\"/></a>"
      ]
    },
    {
      "cell_type": "code",
      "execution_count": null,
      "metadata": {
        "id": "ZmdQZTqbuGeZ"
      },
      "outputs": [],
      "source": [
        "import tensorflow\n",
        "from tensorflow import keras\n",
        "from tensorflow.keras import Sequential\n",
        "from tensorflow.keras.layers import Dense,Flatten"
      ]
    },
    {
      "cell_type": "code",
      "execution_count": null,
      "metadata": {
        "id": "IbEyuLBXrjGo",
        "colab": {
          "base_uri": "https://localhost:8080/"
        },
        "outputId": "49585362-f595-4141-86c7-63fe6906ace8"
      },
      "outputs": [
        {
          "output_type": "stream",
          "name": "stdout",
          "text": [
            "Downloading data from https://storage.googleapis.com/tensorflow/tf-keras-datasets/mnist.npz\n",
            "11490434/11490434 [==============================] - 0s 0us/step\n"
          ]
        }
      ],
      "source": [
        "(X_train,y_train),(X_test,y_test) = keras.datasets.mnist.load_data()"
      ]
    },
    {
      "cell_type": "code",
      "execution_count": null,
      "metadata": {
        "colab": {
          "base_uri": "https://localhost:8080/"
        },
        "id": "YaonTKPtsYpx",
        "outputId": "0deff99d-5441-4e3c-ebf5-846bc97fb19a"
      },
      "outputs": [
        {
          "output_type": "execute_result",
          "data": {
            "text/plain": [
              "array([[[0, 0, 0, ..., 0, 0, 0],\n",
              "        [0, 0, 0, ..., 0, 0, 0],\n",
              "        [0, 0, 0, ..., 0, 0, 0],\n",
              "        ...,\n",
              "        [0, 0, 0, ..., 0, 0, 0],\n",
              "        [0, 0, 0, ..., 0, 0, 0],\n",
              "        [0, 0, 0, ..., 0, 0, 0]],\n",
              "\n",
              "       [[0, 0, 0, ..., 0, 0, 0],\n",
              "        [0, 0, 0, ..., 0, 0, 0],\n",
              "        [0, 0, 0, ..., 0, 0, 0],\n",
              "        ...,\n",
              "        [0, 0, 0, ..., 0, 0, 0],\n",
              "        [0, 0, 0, ..., 0, 0, 0],\n",
              "        [0, 0, 0, ..., 0, 0, 0]],\n",
              "\n",
              "       [[0, 0, 0, ..., 0, 0, 0],\n",
              "        [0, 0, 0, ..., 0, 0, 0],\n",
              "        [0, 0, 0, ..., 0, 0, 0],\n",
              "        ...,\n",
              "        [0, 0, 0, ..., 0, 0, 0],\n",
              "        [0, 0, 0, ..., 0, 0, 0],\n",
              "        [0, 0, 0, ..., 0, 0, 0]],\n",
              "\n",
              "       ...,\n",
              "\n",
              "       [[0, 0, 0, ..., 0, 0, 0],\n",
              "        [0, 0, 0, ..., 0, 0, 0],\n",
              "        [0, 0, 0, ..., 0, 0, 0],\n",
              "        ...,\n",
              "        [0, 0, 0, ..., 0, 0, 0],\n",
              "        [0, 0, 0, ..., 0, 0, 0],\n",
              "        [0, 0, 0, ..., 0, 0, 0]],\n",
              "\n",
              "       [[0, 0, 0, ..., 0, 0, 0],\n",
              "        [0, 0, 0, ..., 0, 0, 0],\n",
              "        [0, 0, 0, ..., 0, 0, 0],\n",
              "        ...,\n",
              "        [0, 0, 0, ..., 0, 0, 0],\n",
              "        [0, 0, 0, ..., 0, 0, 0],\n",
              "        [0, 0, 0, ..., 0, 0, 0]],\n",
              "\n",
              "       [[0, 0, 0, ..., 0, 0, 0],\n",
              "        [0, 0, 0, ..., 0, 0, 0],\n",
              "        [0, 0, 0, ..., 0, 0, 0],\n",
              "        ...,\n",
              "        [0, 0, 0, ..., 0, 0, 0],\n",
              "        [0, 0, 0, ..., 0, 0, 0],\n",
              "        [0, 0, 0, ..., 0, 0, 0]]], dtype=uint8)"
            ]
          },
          "metadata": {},
          "execution_count": 3
        }
      ],
      "source": [
        "X_train"
      ]
    },
    {
      "cell_type": "code",
      "execution_count": null,
      "metadata": {
        "colab": {
          "base_uri": "https://localhost:8080/"
        },
        "id": "UhdfuWSMQ6CV",
        "outputId": "605c1cca-5171-49d8-a3a0-c53bf4669c47"
      },
      "outputs": [
        {
          "output_type": "execute_result",
          "data": {
            "text/plain": [
              "(60000, 28, 28)"
            ]
          },
          "metadata": {},
          "execution_count": 4
        }
      ],
      "source": [
        "X_train.shape"
      ]
    },
    {
      "cell_type": "code",
      "execution_count": null,
      "metadata": {
        "colab": {
          "base_uri": "https://localhost:8080/"
        },
        "id": "Wgf_3BFyQ8MT",
        "outputId": "a52b3e04-f23e-4cba-e26e-c454ec63bb0f"
      },
      "outputs": [
        {
          "output_type": "execute_result",
          "data": {
            "text/plain": [
              "(10000, 28, 28)"
            ]
          },
          "metadata": {},
          "execution_count": 5
        }
      ],
      "source": [
        "X_test.shape"
      ]
    },
    {
      "cell_type": "code",
      "execution_count": null,
      "metadata": {
        "colab": {
          "base_uri": "https://localhost:8080/"
        },
        "id": "GS-FrOrCRG9f",
        "outputId": "99e37051-3ece-4557-ff4f-64c2873bab5e"
      },
      "outputs": [
        {
          "output_type": "execute_result",
          "data": {
            "text/plain": [
              "array([5, 0, 4, ..., 5, 6, 8], dtype=uint8)"
            ]
          },
          "metadata": {},
          "execution_count": 6
        }
      ],
      "source": [
        "y_train"
      ]
    },
    {
      "cell_type": "code",
      "execution_count": null,
      "metadata": {
        "colab": {
          "base_uri": "https://localhost:8080/"
        },
        "id": "2qYyZyLQSozt",
        "outputId": "ed1552f7-abfd-4709-ef0a-4b20370e2213"
      },
      "outputs": [
        {
          "output_type": "execute_result",
          "data": {
            "text/plain": [
              "(60000,)"
            ]
          },
          "metadata": {},
          "execution_count": 7
        }
      ],
      "source": [
        "y_train.shape"
      ]
    },
    {
      "cell_type": "code",
      "execution_count": null,
      "metadata": {
        "colab": {
          "base_uri": "https://localhost:8080/",
          "height": 447
        },
        "id": "uIy27r15SvR_",
        "outputId": "d1a5058a-8232-4a65-bf23-102d2107b425"
      },
      "outputs": [
        {
          "output_type": "execute_result",
          "data": {
            "text/plain": [
              "<matplotlib.image.AxesImage at 0x7da35241c7f0>"
            ]
          },
          "metadata": {},
          "execution_count": 8
        },
        {
          "output_type": "display_data",
          "data": {
            "text/plain": [
              "<Figure size 640x480 with 1 Axes>"
            ],
            "image/png": "[encoded data removed]"
          },
          "metadata": {}
        }
      ],
      "source": [
        "import matplotlib.pyplot as plt\n",
        "plt.imshow(X_train[7])"
      ]
    },
    {
      "cell_type": "code",
      "source": [
        "print(y_train[7])"
      ],
      "metadata": {
        "colab": {
          "base_uri": "https://localhost:8080/"
        },
        "id": "XscO0NQzZPwh",
        "outputId": "c8663537-290f-458f-c872-966d263644fe"
      },
      "execution_count": null,
      "outputs": [
        {
          "output_type": "stream",
          "name": "stdout",
          "text": [
            "3\n"
          ]
        }
      ]
    },
    {
      "cell_type": "markdown",
      "metadata": {
        "id": "1DHE4dntVV6j"
      },
      "source": [
        "# To get all the values between 0 and 1"
      ]
    },
    {
      "cell_type": "code",
      "execution_count": null,
      "metadata": {
        "colab": {
          "base_uri": "https://localhost:8080/"
        },
        "id": "6Yut9Vx4S5U6",
        "outputId": "f87eebe2-13fd-44db-b0d1-10ea2b873696"
      },
      "outputs": [
        {
          "output_type": "execute_result",
          "data": {
            "text/plain": [
              "array([[0.        , 0.        , 0.        , 0.        , 0.        ,\n",
              "        0.        , 0.        , 0.        , 0.        , 0.        ,\n",
              "        0.        , 0.        , 0.        , 0.        , 0.        ,\n",
              "        0.        , 0.        , 0.        , 0.        , 0.        ,\n",
              "        0.        , 0.        , 0.        , 0.        , 0.        ,\n",
              "        0.        , 0.        , 0.        ],\n",
              "       [0.        , 0.        , 0.        , 0.        , 0.        ,\n",
              "        0.        , 0.        , 0.        , 0.        , 0.        ,\n",
              "        0.        , 0.        , 0.        , 0.        , 0.        ,\n",
              "        0.        , 0.        , 0.        , 0.        , 0.        ,\n",
              "        0.        , 0.        , 0.        , 0.        , 0.        ,\n",
              "        0.        , 0.        , 0.        ],\n",
              "       [0.        , 0.        , 0.        , 0.        , 0.        ,\n",
              "        0.        , 0.        , 0.        , 0.        , 0.        ,\n",
              "        0.        , 0.        , 0.        , 0.        , 0.        ,\n",
              "        0.        , 0.        , 0.        , 0.        , 0.        ,\n",
              "        0.        , 0.        , 0.        , 0.        , 0.        ,\n",
              "        0.        , 0.        , 0.        ],\n",
              "       [0.        , 0.        , 0.        , 0.        , 0.        ,\n",
              "        0.        , 0.        , 0.        , 0.        , 0.        ,\n",
              "        0.        , 0.        , 0.        , 0.        , 0.        ,\n",
              "        0.        , 0.        , 0.        , 0.        , 0.        ,\n",
              "        0.        , 0.        , 0.        , 0.        , 0.        ,\n",
              "        0.        , 0.        , 0.        ],\n",
              "       [0.        , 0.        , 0.        , 0.        , 0.        ,\n",
              "        0.        , 0.        , 0.        , 0.        , 0.        ,\n",
              "        0.        , 0.        , 0.        , 0.        , 0.        ,\n",
              "        0.        , 0.        , 0.        , 0.        , 0.        ,\n",
              "        0.        , 0.        , 0.        , 0.        , 0.        ,\n",
              "        0.        , 0.        , 0.        ],\n",
              "       [0.        , 0.        , 0.        , 0.        , 0.        ,\n",
              "        0.        , 0.        , 0.        , 0.        , 0.        ,\n",
              "        0.        , 0.14901961, 0.16862745, 0.41176471, 1.        ,\n",
              "        0.99215686, 0.99215686, 0.99215686, 0.99215686, 0.99215686,\n",
              "        0.68235294, 0.02352941, 0.        , 0.        , 0.        ,\n",
              "        0.        , 0.        , 0.        ],\n",
              "       [0.        , 0.        , 0.        , 0.        , 0.        ,\n",
              "        0.        , 0.        , 0.        , 0.        , 0.16862745,\n",
              "        0.54509804, 0.87843137, 0.88627451, 0.98823529, 0.99215686,\n",
              "        0.98823529, 0.98823529, 0.98823529, 0.98823529, 0.98823529,\n",
              "        0.98823529, 0.61960784, 0.05490196, 0.        , 0.        ,\n",
              "        0.        , 0.        , 0.        ],\n",
              "       [0.        , 0.        , 0.        , 0.        , 0.        ,\n",
              "        0.        , 0.        , 0.        , 0.        , 0.69803922,\n",
              "        0.98823529, 0.98823529, 0.98823529, 0.98823529, 0.99215686,\n",
              "        0.98823529, 0.98823529, 0.98823529, 0.98823529, 0.98823529,\n",
              "        0.98823529, 0.98823529, 0.23137255, 0.        , 0.        ,\n",
              "        0.        , 0.        , 0.        ],\n",
              "       [0.        , 0.        , 0.        , 0.        , 0.        ,\n",
              "        0.        , 0.        , 0.        , 0.        , 0.42745098,\n",
              "        0.98823529, 0.98823529, 0.90196078, 0.51764706, 0.52156863,\n",
              "        0.51764706, 0.51764706, 0.74117647, 0.98823529, 0.98823529,\n",
              "        0.98823529, 0.98823529, 0.23137255, 0.        , 0.        ,\n",
              "        0.        , 0.        , 0.        ],\n",
              "       [0.        , 0.        , 0.        , 0.        , 0.        ,\n",
              "        0.        , 0.        , 0.        , 0.        , 0.01568627,\n",
              "        0.11372549, 0.11372549, 0.09411765, 0.        , 0.        ,\n",
              "        0.        , 0.        , 0.05490196, 0.88627451, 0.98823529,\n",
              "        0.98823529, 0.6745098 , 0.02745098, 0.        , 0.        ,\n",
              "        0.        , 0.        , 0.        ],\n",
              "       [0.        , 0.        , 0.        , 0.        , 0.        ,\n",
              "        0.        , 0.        , 0.        , 0.        , 0.        ,\n",
              "        0.        , 0.        , 0.        , 0.        , 0.        ,\n",
              "        0.        , 0.        , 0.33333333, 0.95294118, 0.98823529,\n",
              "        0.98823529, 0.56470588, 0.        , 0.        , 0.        ,\n",
              "        0.        , 0.        , 0.        ],\n",
              "       [0.        , 0.        , 0.        , 0.        , 0.        ,\n",
              "        0.        , 0.        , 0.        , 0.        , 0.        ,\n",
              "        0.        , 0.        , 0.        , 0.        , 0.        ,\n",
              "        0.        , 0.34509804, 0.74117647, 0.98823529, 0.98823529,\n",
              "        0.98823529, 0.05490196, 0.        , 0.        , 0.        ,\n",
              "        0.        , 0.        , 0.        ],\n",
              "       [0.        , 0.        , 0.        , 0.        , 0.        ,\n",
              "        0.        , 0.        , 0.        , 0.        , 0.        ,\n",
              "        0.        , 0.        , 0.        , 0.        , 0.35686275,\n",
              "        0.83137255, 0.96862745, 0.98823529, 0.98823529, 0.98823529,\n",
              "        0.8       , 0.03529412, 0.        , 0.        , 0.        ,\n",
              "        0.        , 0.        , 0.        ],\n",
              "       [0.        , 0.        , 0.        , 0.        , 0.        ,\n",
              "        0.        , 0.        , 0.        , 0.        , 0.1254902 ,\n",
              "        0.49019608, 0.75686275, 0.75686275, 0.75686275, 0.99215686,\n",
              "        0.98823529, 0.98823529, 0.98823529, 0.93333333, 0.4       ,\n",
              "        0.10980392, 0.        , 0.        , 0.        , 0.        ,\n",
              "        0.        , 0.        , 0.        ],\n",
              "       [0.        , 0.        , 0.        , 0.        , 0.        ,\n",
              "        0.        , 0.        , 0.        , 0.17647059, 0.87058824,\n",
              "        0.98823529, 0.98823529, 0.98823529, 0.98823529, 0.99215686,\n",
              "        0.98823529, 0.98823529, 0.98823529, 0.69411765, 0.        ,\n",
              "        0.        , 0.        , 0.        , 0.        , 0.        ,\n",
              "        0.        , 0.        , 0.        ],\n",
              "       [0.        , 0.        , 0.        , 0.        , 0.        ,\n",
              "        0.        , 0.        , 0.        , 0.17647059, 0.8745098 ,\n",
              "        0.99215686, 0.99215686, 0.99215686, 0.99215686, 1.        ,\n",
              "        0.99215686, 0.99215686, 0.99215686, 0.99215686, 0.29019608,\n",
              "        0.        , 0.        , 0.        , 0.        , 0.        ,\n",
              "        0.        , 0.        , 0.        ],\n",
              "       [0.        , 0.        , 0.        , 0.        , 0.        ,\n",
              "        0.        , 0.        , 0.        , 0.        , 0.12156863,\n",
              "        0.48235294, 0.20392157, 0.17254902, 0.17254902, 0.17254902,\n",
              "        0.17254902, 0.56078431, 0.98823529, 0.98823529, 0.29019608,\n",
              "        0.        , 0.        , 0.        , 0.        , 0.        ,\n",
              "        0.        , 0.        , 0.        ],\n",
              "       [0.        , 0.        , 0.        , 0.        , 0.        ,\n",
              "        0.        , 0.        , 0.        , 0.        , 0.        ,\n",
              "        0.        , 0.        , 0.        , 0.        , 0.        ,\n",
              "        0.        , 0.05882353, 0.98823529, 0.98823529, 0.29019608,\n",
              "        0.        , 0.        , 0.        , 0.        , 0.        ,\n",
              "        0.        , 0.        , 0.        ],\n",
              "       [0.        , 0.        , 0.        , 0.        , 0.        ,\n",
              "        0.        , 0.        , 0.        , 0.        , 0.        ,\n",
              "        0.        , 0.        , 0.        , 0.        , 0.        ,\n",
              "        0.        , 0.3372549 , 0.98823529, 0.98823529, 0.29019608,\n",
              "        0.        , 0.        , 0.        , 0.        , 0.        ,\n",
              "        0.        , 0.        , 0.        ],\n",
              "       [0.        , 0.        , 0.        , 0.        , 0.        ,\n",
              "        0.        , 0.01960784, 0.29411765, 0.03529412, 0.        ,\n",
              "        0.        , 0.        , 0.        , 0.        , 0.        ,\n",
              "        0.38431373, 0.94901961, 0.98823529, 0.98823529, 0.29019608,\n",
              "        0.        , 0.        , 0.        , 0.        , 0.        ,\n",
              "        0.        , 0.        , 0.        ],\n",
              "       [0.        , 0.        , 0.        , 0.        , 0.        ,\n",
              "        0.23921569, 0.71764706, 0.98823529, 0.11372549, 0.        ,\n",
              "        0.        , 0.        , 0.        , 0.07058824, 0.36078431,\n",
              "        0.9372549 , 0.98823529, 0.98823529, 0.95294118, 0.25490196,\n",
              "        0.        , 0.        , 0.        , 0.        , 0.        ,\n",
              "        0.        , 0.        , 0.        ],\n",
              "       [0.        , 0.        , 0.        , 0.        , 0.        ,\n",
              "        0.81568627, 0.98823529, 0.98823529, 0.57647059, 0.5254902 ,\n",
              "        0.5254902 , 0.5254902 , 0.5254902 , 0.79607843, 0.99215686,\n",
              "        0.98823529, 0.98823529, 0.7372549 , 0.3254902 , 0.        ,\n",
              "        0.        , 0.        , 0.        , 0.        , 0.        ,\n",
              "        0.        , 0.        , 0.        ],\n",
              "       [0.        , 0.        , 0.        , 0.        , 0.        ,\n",
              "        0.81568627, 0.98823529, 0.98823529, 0.98823529, 0.98823529,\n",
              "        0.98823529, 0.98823529, 0.98823529, 0.98823529, 0.99215686,\n",
              "        0.90196078, 0.6       , 0.03137255, 0.        , 0.        ,\n",
              "        0.        , 0.        , 0.        , 0.        , 0.        ,\n",
              "        0.        , 0.        , 0.        ],\n",
              "       [0.        , 0.        , 0.        , 0.        , 0.        ,\n",
              "        0.19215686, 0.61568627, 0.98823529, 0.98823529, 0.98823529,\n",
              "        0.98823529, 0.98823529, 0.85098039, 0.81176471, 0.57254902,\n",
              "        0.17647059, 0.        , 0.        , 0.        , 0.        ,\n",
              "        0.        , 0.        , 0.        , 0.        , 0.        ,\n",
              "        0.        , 0.        , 0.        ],\n",
              "       [0.        , 0.        , 0.        , 0.        , 0.        ,\n",
              "        0.        , 0.02745098, 0.40392157, 0.92156863, 0.98823529,\n",
              "        0.6745098 , 0.40392157, 0.09411765, 0.        , 0.        ,\n",
              "        0.        , 0.        , 0.        , 0.        , 0.        ,\n",
              "        0.        , 0.        , 0.        , 0.        , 0.        ,\n",
              "        0.        , 0.        , 0.        ],\n",
              "       [0.        , 0.        , 0.        , 0.        , 0.        ,\n",
              "        0.        , 0.        , 0.        , 0.        , 0.        ,\n",
              "        0.        , 0.        , 0.        , 0.        , 0.        ,\n",
              "        0.        , 0.        , 0.        , 0.        , 0.        ,\n",
              "        0.        , 0.        , 0.        , 0.        , 0.        ,\n",
              "        0.        , 0.        , 0.        ],\n",
              "       [0.        , 0.        , 0.        , 0.        , 0.        ,\n",
              "        0.        , 0.        , 0.        , 0.        , 0.        ,\n",
              "        0.        , 0.        , 0.        , 0.        , 0.        ,\n",
              "        0.        , 0.        , 0.        , 0.        , 0.        ,\n",
              "        0.        , 0.        , 0.        , 0.        , 0.        ,\n",
              "        0.        , 0.        , 0.        ],\n",
              "       [0.        , 0.        , 0.        , 0.        , 0.        ,\n",
              "        0.        , 0.        , 0.        , 0.        , 0.        ,\n",
              "        0.        , 0.        , 0.        , 0.        , 0.        ,\n",
              "        0.        , 0.        , 0.        , 0.        , 0.        ,\n",
              "        0.        , 0.        , 0.        , 0.        , 0.        ,\n",
              "        0.        , 0.        , 0.        ]])"
            ]
          },
          "metadata": {},
          "execution_count": 10
        }
      ],
      "source": [
        "X_train = X_train/255\n",
        "X_test = X_test/255\n",
        "X_train[7]"
      ]
    },
    {
      "cell_type": "code",
      "execution_count": null,
      "metadata": {
        "colab": {
          "base_uri": "https://localhost:8080/"
        },
        "id": "XDH--Td9UMqA",
        "outputId": "1b772dcb-41e4-4af9-ec06-ed0b98d84f05"
      },
      "outputs": [
        {
          "output_type": "stream",
          "name": "stdout",
          "text": [
            "Model: \"sequential\"\n",
            "_________________________________________________________________\n",
            " Layer (type)                Output Shape              Param #   \n",
            "=================================================================\n",
            " flatten (Flatten)           (None, 784)               0         \n",
            "                                                                 \n",
            " dense (Dense)               (None, 128)               100480    \n",
            "                                                                 \n",
            " dense_1 (Dense)             (None, 32)                4128      \n",
            "                                                                 \n",
            " dense_2 (Dense)             (None, 10)                330       \n",
            "                                                                 \n",
            "=================================================================\n",
            "Total params: 104,938\n",
            "Trainable params: 104,938\n",
            "Non-trainable params: 0\n",
            "_________________________________________________________________\n"
          ]
        }
      ],
      "source": [
        "model = Sequential()\n",
        "\n",
        "model.add(Flatten(input_shape=(28,28)))\n",
        "model.add(Dense(128,activation='relu'))\n",
        "model.add(Dense(32,activation='relu'))\n",
        "model.add(Dense(10,activation='softmax'))\n",
        "\n",
        "model.summary()"
      ]
    },
    {
      "cell_type": "code",
      "execution_count": null,
      "metadata": {
        "id": "HiZ6_6P5nUcL"
      },
      "outputs": [],
      "source": [
        "model.compile(loss='sparse_categorical_crossentropy',optimizer='Adam',metrics=['accuracy'])"
      ]
    },
    {
      "cell_type": "code",
      "execution_count": null,
      "metadata": {
        "colab": {
          "base_uri": "https://localhost:8080/"
        },
        "id": "hl37rkGYCnbE",
        "outputId": "1013434a-a7e1-476b-c6cd-1c08f4d772e3"
      },
      "outputs": [
        {
          "output_type": "stream",
          "name": "stdout",
          "text": [
            "Epoch 1/25\n",
            "1500/1500 [==============================] - 20s 10ms/step - loss: 0.2948 - accuracy: 0.9140 - val_loss: 0.1603 - val_accuracy: 0.9501\n",
            "Epoch 2/25\n",
            "1500/1500 [==============================] - 11s 8ms/step - loss: 0.1243 - accuracy: 0.9630 - val_loss: 0.1215 - val_accuracy: 0.9628\n",
            "Epoch 3/25\n",
            "1500/1500 [==============================] - 6s 4ms/step - loss: 0.0851 - accuracy: 0.9740 - val_loss: 0.1011 - val_accuracy: 0.9688\n",
            "Epoch 4/25\n",
            "1500/1500 [==============================] - 7s 5ms/step - loss: 0.0639 - accuracy: 0.9799 - val_loss: 0.0917 - val_accuracy: 0.9728\n",
            "Epoch 5/25\n",
            "1500/1500 [==============================] - 6s 4ms/step - loss: 0.0510 - accuracy: 0.9844 - val_loss: 0.0856 - val_accuracy: 0.9753\n",
            "Epoch 6/25\n",
            "1500/1500 [==============================] - 7s 5ms/step - loss: 0.0409 - accuracy: 0.9867 - val_loss: 0.0981 - val_accuracy: 0.9731\n",
            "Epoch 7/25\n",
            "1500/1500 [==============================] - 6s 4ms/step - loss: 0.0299 - accuracy: 0.9905 - val_loss: 0.1128 - val_accuracy: 0.9708\n",
            "Epoch 8/25\n",
            "1500/1500 [==============================] - 7s 5ms/step - loss: 0.0274 - accuracy: 0.9908 - val_loss: 0.0937 - val_accuracy: 0.9755\n",
            "Epoch 9/25\n",
            "1500/1500 [==============================] - 6s 4ms/step - loss: 0.0204 - accuracy: 0.9934 - val_loss: 0.1078 - val_accuracy: 0.9733\n",
            "Epoch 10/25\n",
            "1500/1500 [==============================] - 7s 5ms/step - loss: 0.0190 - accuracy: 0.9940 - val_loss: 0.1194 - val_accuracy: 0.9717\n",
            "Epoch 11/25\n",
            "1500/1500 [==============================] - 6s 4ms/step - loss: 0.0179 - accuracy: 0.9943 - val_loss: 0.1039 - val_accuracy: 0.9752\n",
            "Epoch 12/25\n",
            "1500/1500 [==============================] - 7s 5ms/step - loss: 0.0146 - accuracy: 0.9951 - val_loss: 0.1119 - val_accuracy: 0.9765\n",
            "Epoch 13/25\n",
            "1500/1500 [==============================] - 7s 5ms/step - loss: 0.0134 - accuracy: 0.9954 - val_loss: 0.1043 - val_accuracy: 0.9770\n",
            "Epoch 14/25\n",
            "1500/1500 [==============================] - 7s 5ms/step - loss: 0.0131 - accuracy: 0.9959 - val_loss: 0.1186 - val_accuracy: 0.9751\n",
            "Epoch 15/25\n",
            "1500/1500 [==============================] - 7s 5ms/step - loss: 0.0131 - accuracy: 0.9955 - val_loss: 0.1185 - val_accuracy: 0.9769\n",
            "Epoch 16/25\n",
            "1500/1500 [==============================] - 6s 4ms/step - loss: 0.0119 - accuracy: 0.9959 - val_loss: 0.1211 - val_accuracy: 0.9761\n",
            "Epoch 17/25\n",
            "1500/1500 [==============================] - 7s 5ms/step - loss: 0.0082 - accuracy: 0.9970 - val_loss: 0.1215 - val_accuracy: 0.9767\n",
            "Epoch 18/25\n",
            "1500/1500 [==============================] - 6s 4ms/step - loss: 0.0109 - accuracy: 0.9962 - val_loss: 0.1553 - val_accuracy: 0.9720\n",
            "Epoch 19/25\n",
            "1500/1500 [==============================] - 8s 6ms/step - loss: 0.0102 - accuracy: 0.9967 - val_loss: 0.1260 - val_accuracy: 0.9759\n",
            "Epoch 20/25\n",
            "1500/1500 [==============================] - 6s 4ms/step - loss: 0.0101 - accuracy: 0.9965 - val_loss: 0.1275 - val_accuracy: 0.9779\n",
            "Epoch 21/25\n",
            "1500/1500 [==============================] - 7s 5ms/step - loss: 0.0066 - accuracy: 0.9981 - val_loss: 0.1435 - val_accuracy: 0.9758\n",
            "Epoch 22/25\n",
            "1500/1500 [==============================] - 6s 4ms/step - loss: 0.0091 - accuracy: 0.9970 - val_loss: 0.1557 - val_accuracy: 0.9751\n",
            "Epoch 23/25\n",
            "1500/1500 [==============================] - 7s 5ms/step - loss: 0.0072 - accuracy: 0.9976 - val_loss: 0.1542 - val_accuracy: 0.9754\n",
            "Epoch 24/25\n",
            "1500/1500 [==============================] - 6s 4ms/step - loss: 0.0086 - accuracy: 0.9971 - val_loss: 0.1525 - val_accuracy: 0.9750\n",
            "Epoch 25/25\n",
            "1500/1500 [==============================] - 7s 5ms/step - loss: 0.0085 - accuracy: 0.9974 - val_loss: 0.1914 - val_accuracy: 0.9713\n"
          ]
        }
      ],
      "source": [
        "history = model.fit(X_train,y_train,epochs=25,validation_split=0.2)"
      ]
    },
    {
      "cell_type": "code",
      "execution_count": null,
      "metadata": {
        "colab": {
          "base_uri": "https://localhost:8080/"
        },
        "id": "KTla0DF7Czs3",
        "outputId": "47048243-c65d-4fa1-c677-cd02791e0056"
      },
      "outputs": [
        {
          "output_type": "stream",
          "name": "stdout",
          "text": [
            "313/313 [==============================] - 1s 2ms/step\n"
          ]
        },
        {
          "output_type": "execute_result",
          "data": {
            "text/plain": [
              "array([[5.5620161e-24, 6.4880711e-21, 1.7212759e-19, ..., 9.9999994e-01,\n",
              "        2.9535392e-22, 1.2217157e-15],\n",
              "       [1.0636011e-23, 5.8837246e-15, 9.9999994e-01, ..., 5.5524310e-25,\n",
              "        1.3591207e-13, 2.3814807e-28],\n",
              "       [1.2912222e-12, 9.9998206e-01, 3.0616971e-09, ..., 3.0196638e-06,\n",
              "        1.4903019e-05, 3.2912652e-11],\n",
              "       ...,\n",
              "       [7.7556220e-32, 1.2509683e-15, 3.3767289e-28, ..., 5.8153237e-05,\n",
              "        3.8387066e-19, 2.2577049e-12],\n",
              "       [4.3177542e-20, 5.5178661e-25, 1.0035039e-23, ..., 7.5207913e-19,\n",
              "        8.8498453e-09, 7.2517057e-20],\n",
              "       [1.3036164e-19, 1.0332250e-21, 7.2451207e-21, ..., 2.8495925e-23,\n",
              "        9.2562238e-22, 6.9615732e-25]], dtype=float32)"
            ]
          },
          "metadata": {},
          "execution_count": 14
        }
      ],
      "source": [
        "model.predict(X_test)"
      ]
    },
    {
      "cell_type": "code",
      "execution_count": null,
      "metadata": {
        "colab": {
          "base_uri": "https://localhost:8080/"
        },
        "id": "bzAY1E9zDhS5",
        "outputId": "b437edc8-2b62-4bf6-9a82-cfbd1486217e"
      },
      "outputs": [
        {
          "output_type": "stream",
          "name": "stdout",
          "text": [
            "313/313 [==============================] - 1s 2ms/step\n"
          ]
        }
      ],
      "source": [
        "y_prob = model.predict(X_test)"
      ]
    },
    {
      "cell_type": "code",
      "execution_count": null,
      "metadata": {
        "colab": {
          "base_uri": "https://localhost:8080/"
        },
        "id": "-6r6XfR4DxAh",
        "outputId": "b977394e-d41c-4804-8117-2de45dcf4c17"
      },
      "outputs": [
        {
          "output_type": "execute_result",
          "data": {
            "text/plain": [
              "array([7, 2, 1, ..., 4, 5, 6])"
            ]
          },
          "metadata": {},
          "execution_count": 16
        }
      ],
      "source": [
        "y_prob.argmax(axis=1)"
      ]
    },
    {
      "cell_type": "code",
      "execution_count": null,
      "metadata": {
        "id": "RbbaWqJKD48g"
      },
      "outputs": [],
      "source": [
        "y_pred = y_prob.argmax(axis=1)"
      ]
    },
    {
      "cell_type": "markdown",
      "metadata": {
        "id": "sU_XPN7cEKJE"
      },
      "source": [
        "# Accuracy of this model"
      ]
    },
    {
      "cell_type": "code",
      "execution_count": null,
      "metadata": {
        "colab": {
          "base_uri": "https://localhost:8080/"
        },
        "id": "QtBzUhUBD_ZG",
        "outputId": "f5eb55e4-f86e-4336-b913-461d3b5ad33b"
      },
      "outputs": [
        {
          "output_type": "execute_result",
          "data": {
            "text/plain": [
              "97.03"
            ]
          },
          "metadata": {},
          "execution_count": 18
        }
      ],
      "source": [
        "from sklearn.metrics import accuracy_score\n",
        "accuracy_score(y_test,y_pred)*100"
      ]
    },
    {
      "cell_type": "code",
      "execution_count": null,
      "metadata": {
        "colab": {
          "base_uri": "https://localhost:8080/",
          "height": 447
        },
        "id": "KNnwyX6vEEJ5",
        "outputId": "fbd1e5a8-2e09-4209-c648-a0d5efb603fa"
      },
      "outputs": [
        {
          "output_type": "execute_result",
          "data": {
            "text/plain": [
              "[<matplotlib.lines.Line2D at 0x7da31c21f460>]"
            ]
          },
          "metadata": {},
          "execution_count": 19
        },
        {
          "output_type": "display_data",
          "data": {
            "text/plain": [
              "<Figure size 640x480 with 1 Axes>"
            ],
            "image/png": "[encoded data removed]"
          },
          "metadata": {}
        }
      ],
      "source": [
        "plt.plot(history.history['loss'])\n",
        "plt.plot(history.history['val_loss'])"
      ]
    },
    {
      "cell_type": "code",
      "execution_count": null,
      "metadata": {
        "colab": {
          "base_uri": "https://localhost:8080/",
          "height": 447
        },
        "id": "w3g-ihE0FzWZ",
        "outputId": "13129c17-ee99-42f3-8464-312dae7bf333"
      },
      "outputs": [
        {
          "output_type": "execute_result",
          "data": {
            "text/plain": [
              "[<matplotlib.lines.Line2D at 0x7da31c2d1480>]"
            ]
          },
          "metadata": {},
          "execution_count": 20
        },
        {
          "output_type": "display_data",
          "data": {
            "text/plain": [
              "<Figure size 640x480 with 1 Axes>"
            ],
            "image/png": "[encoded data removed]"
          },
          "metadata": {}
        }
      ],
      "source": [
        "plt.plot(history.history['accuracy'])\n",
        "plt.plot(history.history['val_accuracy'])"
      ]
    },
    {
      "cell_type": "code",
      "execution_count": null,
      "metadata": {
        "colab": {
          "base_uri": "https://localhost:8080/",
          "height": 447
        },
        "id": "3MLVpK21GAMu",
        "outputId": "a3d0cd40-9912-491a-c662-d831b32123a9"
      },
      "outputs": [
        {
          "output_type": "execute_result",
          "data": {
            "text/plain": [
              "<matplotlib.image.AxesImage at 0x7da31c1154e0>"
            ]
          },
          "metadata": {},
          "execution_count": 21
        },
        {
          "output_type": "display_data",
          "data": {
            "text/plain": [
              "<Figure size 640x480 with 1 Axes>"
            ],
            "image/png": "[encoded data removed]"
          },
          "metadata": {}
        }
      ],
      "source": [
        "plt.imshow(X_test[12])"
      ]
    },
    {
      "cell_type": "code",
      "execution_count": null,
      "metadata": {
        "colab": {
          "base_uri": "https://localhost:8080/"
        },
        "id": "E0YU4aOAGPpA",
        "outputId": "7f56879f-64b0-492c-bd97-a1bba07ba83d"
      },
      "outputs": [
        {
          "output_type": "stream",
          "name": "stdout",
          "text": [
            "1/1 [==============================] - 0s 22ms/step\n"
          ]
        },
        {
          "output_type": "execute_result",
          "data": {
            "text/plain": [
              "array([9])"
            ]
          },
          "metadata": {},
          "execution_count": 22
        }
      ],
      "source": [
        "model.predict(X_test[12].reshape(1,28,28)).argmax(axis=1)"
      ]
    },
    {
      "cell_type": "code",
      "execution_count": null,
      "metadata": {
        "colab": {
          "base_uri": "https://localhost:8080/"
        },
        "id": "agAuaDoeORhO",
        "outputId": "2b23c59d-ba61-40d2-aa43-46329e0490f5"
      },
      "outputs": [
        {
          "output_type": "stream",
          "name": "stdout",
          "text": [
            "Enter the file path of the image (or type 'end' to exit): /content/0.PNG\n",
            "1/1 [==============================] - 0s 31ms/step\n",
            "Predicted digit: 0\n",
            "Enter the file path of the image (or type 'end' to exit): /content/1.PNG\n",
            "1/1 [==============================] - 0s 46ms/step\n",
            "Predicted digit: 1\n",
            "Enter the file path of the image (or type 'end' to exit): /content/2.PNG\n",
            "1/1 [==============================] - 0s 24ms/step\n",
            "Predicted digit: 2\n",
            "Enter the file path of the image (or type 'end' to exit): /content/6.PNG\n",
            "1/1 [==============================] - 0s 22ms/step\n",
            "Predicted digit: 6\n",
            "Enter the file path of the image (or type 'end' to exit): /content/9.PNG\n",
            "1/1 [==============================] - 0s 23ms/step\n",
            "Predicted digit: 7\n",
            "Enter the file path of the image (or type 'end' to exit): /content/9.PNG\n",
            "1/1 [==============================] - 0s 23ms/step\n",
            "Predicted digit: 7\n",
            "Enter the file path of the image (or type 'end' to exit): /content/5.PNG\n",
            "1/1 [==============================] - 0s 21ms/step\n",
            "Predicted digit: 5\n",
            "Enter the file path of the image (or type 'end' to exit): /content/7.PNG\n",
            "1/1 [==============================] - 0s 21ms/step\n",
            "Predicted digit: 7\n",
            "Enter the file path of the image (or type 'end' to exit): /content/9.PNG\n",
            "1/1 [==============================] - 0s 21ms/step\n",
            "Predicted digit: 7\n",
            "Enter the file path of the image (or type 'end' to exit): end\n",
            "Thank you for using our service!\n"
          ]
        }
      ],
      "source": [
        "from PIL import Image\n",
        "# Function to preprocess the user input image\n",
        "def preprocess_image(image_path):\n",
        "    img = Image.open(image_path)\n",
        "    img = img.convert(\"L\")  # Convert to grayscale\n",
        "    img = img.resize((28, 28))  # Resize to the same size as MNIST images\n",
        "    img_array = tensorflow.keras.preprocessing.image.img_to_array(img)\n",
        "    img_array = img_array / 255  # Normalize pixel values\n",
        "    img_array = img_array.reshape(1, 28, 28)  # Reshape to match the model input shape\n",
        "    return img_array\n",
        "\n",
        "# User interface for predicting digits from user input\n",
        "while True:\n",
        "    input_file = input(\"Enter the file path of the image (or type 'end' to exit): \")\n",
        "    if input_file.lower() == \"end\":\n",
        "        print(\"Thank you for using our service!\")\n",
        "        break\n",
        "    else:\n",
        "        try:\n",
        "            input_img = preprocess_image(input_file)\n",
        "            prediction = model.predict(input_img).argmax(axis=1)\n",
        "            print(\"Predicted digit:\", prediction[0])\n",
        "        except Exception as e:\n",
        "            print(\"Error:\", e)\n"
      ]
    }
  ],
  "metadata": {
    "colab": {
      "provenance": [],
      "authorship_tag": "ABX9TyO60SbBWZvKSGocd6KpOgNs",
      "include_colab_link": true
    },
    "kernelspec": {
      "display_name": "Python 3",
      "name": "python3"
    },
    "language_info": {
      "name": "python"
    }
  },
  "nbformat": 4,
  "nbformat_minor": 0
}